{
 "cells": [
  {
   "cell_type": "code",
   "execution_count": 34,
   "metadata": {},
   "outputs": [],
   "source": [
    "class ABCD:\n",
    "    def wow(txt):\n",
    "        print(f\"from class {txt}\")\n",
    "\n",
    "class Rlist(list):\n",
    "    __clist = []\n",
    "    def __init__(self,clist):\n",
    "        \n",
    "        self.__clist = clist\n",
    "        super().__init__(self.__clist)\n",
    "\n",
    "    def method1(self, *args):\n",
    "        if type(args) == list.type:\n",
    "            pass\n",
    "        else:\n",
    "            print(\"error\")\n",
    "        pass\n",
    "\n",
    "    def len(self):\n",
    "        return len(self.__clist)\n",
    "\n",
    "    def myPrint(self):\n",
    "        print(f\"From Class : {self.__clist}\")\n",
    "\n",
    "    def __sub__(self,obj):\n",
    "        output = Rlist([])\n",
    "        for i in self.__clist:\n",
    "            if i not in obj: # item not found in obj, add to output\n",
    "                output.append(i)\n",
    "        return output\n",
    "\n",
    "# usage\n"
   ]
  },
  {
   "cell_type": "code",
   "execution_count": 33,
   "metadata": {},
   "outputs": [
    {
     "name": "stdout",
     "output_type": "stream",
     "text": [
      "<class '__main__.Rlist'>\n",
      "['z', 'w']\n"
     ]
    }
   ],
   "source": [
    "l1 = Rlist(['x','y','z','w'])\n",
    "l1\n",
    "\n",
    "l2 = Rlist(['a','x','y'])\n",
    "\n",
    "l3 = l1 - l2\n",
    "print(type(l3))\n",
    "print(l3)\n",
    "\n"
   ]
  }
 ],
 "metadata": {
  "kernelspec": {
   "display_name": "Python 3",
   "language": "python",
   "name": "python3"
  },
  "language_info": {
   "codemirror_mode": {
    "name": "ipython",
    "version": 3
   },
   "file_extension": ".py",
   "mimetype": "text/x-python",
   "name": "python",
   "nbconvert_exporter": "python",
   "pygments_lexer": "ipython3",
   "version": "3.11.1"
  },
  "orig_nbformat": 4,
  "vscode": {
   "interpreter": {
    "hash": "949777d72b0d2535278d3dc13498b2535136f6dfe0678499012e853ee9abcab1"
   }
  }
 },
 "nbformat": 4,
 "nbformat_minor": 2
}
