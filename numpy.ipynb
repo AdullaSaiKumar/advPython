{
 "cells": [
  {
   "cell_type": "code",
   "execution_count": 7,
   "metadata": {},
   "outputs": [
    {
     "name": "stdout",
     "output_type": "stream",
     "text": [
      "[ 0  1  4  9 16 25 36 49 64]\n"
     ]
    }
   ],
   "source": [
    "import numpy as np\n",
    "sqr = lambda x:x*x \n",
    "oda = np.array([sqr(x) for x in range(0,9)])\n",
    "print(oda)"
   ]
  },
  {
   "cell_type": "code",
   "execution_count": 15,
   "metadata": {},
   "outputs": [
    {
     "name": "stdout",
     "output_type": "stream",
     "text": [
      "float64\n"
     ]
    }
   ],
   "source": [
    "mya = np.arange(1,10,0.5)\n",
    "print(mya.dtype)"
   ]
  },
  {
   "cell_type": "code",
   "execution_count": 21,
   "metadata": {},
   "outputs": [
    {
     "name": "stdout",
     "output_type": "stream",
     "text": [
      "[[1. 0. 0.]\n",
      " [0. 1. 0.]\n",
      " [0. 0. 1.]]\n"
     ]
    },
    {
     "data": {
      "text/plain": [
       "array([[1.],\n",
       "       [0.]])"
      ]
     },
     "execution_count": 21,
     "metadata": {},
     "output_type": "execute_result"
    }
   ],
   "source": [
    "a = np.eye(3)\n",
    "print(a)\n",
    "a[0:2,0:1]\n",
    "\n"
   ]
  },
  {
   "cell_type": "code",
   "execution_count": 19,
   "metadata": {},
   "outputs": [
    {
     "name": "stdout",
     "output_type": "stream",
     "text": [
      "[[1 0 0]\n",
      " [0 2 0]\n",
      " [0 0 3]]\n"
     ]
    }
   ],
   "source": [
    "b = np.diag([1,2,3])\n",
    "print(b)"
   ]
  },
  {
   "cell_type": "code",
   "execution_count": 24,
   "metadata": {},
   "outputs": [
    {
     "name": "stdout",
     "output_type": "stream",
     "text": [
      "[[1. 0. 0.]\n",
      " [0. 1. 0.]\n",
      " [0. 0. 1.]]\n",
      "[[1 0 0]\n",
      " [0 2 0]\n",
      " [0 0 3]]\n"
     ]
    }
   ],
   "source": [
    "print(a)\n",
    "print(b)"
   ]
  },
  {
   "cell_type": "code",
   "execution_count": 25,
   "metadata": {},
   "outputs": [
    {
     "name": "stdout",
     "output_type": "stream",
     "text": [
      "[[2. 0. 0.]\n",
      " [0. 3. 0.]\n",
      " [0. 0. 4.]]\n"
     ]
    }
   ],
   "source": [
    "print(a+b)"
   ]
  },
  {
   "cell_type": "code",
   "execution_count": 26,
   "metadata": {},
   "outputs": [
    {
     "name": "stdout",
     "output_type": "stream",
     "text": [
      "[11 12 13 14 15]\n"
     ]
    }
   ],
   "source": [
    "a1 = np.array([1,2,3,4,5])\n",
    "b = 10\n",
    "print(a1+b)"
   ]
  },
  {
   "cell_type": "code",
   "execution_count": 36,
   "metadata": {},
   "outputs": [
    {
     "name": "stdout",
     "output_type": "stream",
     "text": [
      "[[1. 1. 1. 1.]\n",
      " [1. 1. 1. 1.]\n",
      " [1. 1. 1. 1.]]\n",
      "--\n",
      "[[1. 1.]\n",
      " [1. 1.]]\n",
      "[4. 4. 4.]\n",
      "[3. 3. 3. 3.]\n"
     ]
    }
   ],
   "source": [
    "a2 = np.ones((3,4))\n",
    "print(a2)\n",
    "print(\"--\")\n",
    "a3 = np.ones((2,2))\n",
    "print(a3)\n",
    "# print(a2+a3)\n",
    "print(a2.sum(axis=1))\n",
    "\n",
    "print(a2.sum(axis=0))\n"
   ]
  },
  {
   "cell_type": "code",
   "execution_count": 41,
   "metadata": {},
   "outputs": [
    {
     "name": "stdout",
     "output_type": "stream",
     "text": [
      "[  0.           2.04081633   4.08163265   6.12244898   8.16326531\n",
      "  10.20408163  12.24489796  14.28571429  16.32653061  18.36734694\n",
      "  20.40816327  22.44897959  24.48979592  26.53061224  28.57142857\n",
      "  30.6122449   32.65306122  34.69387755  36.73469388  38.7755102\n",
      "  40.81632653  42.85714286  44.89795918  46.93877551  48.97959184\n",
      "  51.02040816  53.06122449  55.10204082  57.14285714  59.18367347\n",
      "  61.2244898   63.26530612  65.30612245  67.34693878  69.3877551\n",
      "  71.42857143  73.46938776  75.51020408  77.55102041  79.59183673\n",
      "  81.63265306  83.67346939  85.71428571  87.75510204  89.79591837\n",
      "  91.83673469  93.87755102  95.91836735  97.95918367 100.        ]\n",
      "3.141592653589793\n"
     ]
    }
   ],
   "source": [
    "t = np.linspace(0,100,50)\n",
    "print(t)\n",
    "PI = np.pi\n",
    "print(PI)"
   ]
  },
  {
   "cell_type": "code",
   "execution_count": 82,
   "metadata": {},
   "outputs": [
    {
     "name": "stdout",
     "output_type": "stream",
     "text": [
      "2023-01-29 20:36:46.602226\n"
     ]
    }
   ],
   "source": [
    "from datetime import datetime  as dt\n",
    "print(str(dt.now()))"
   ]
  },
  {
   "cell_type": "code",
   "execution_count": 96,
   "metadata": {},
   "outputs": [],
   "source": [
    "def _fib(n):\n",
    "    if n <= 0:\n",
    "        return 0\n",
    "    elif n == 1:\n",
    "        return 1\n",
    "    else: \n",
    "        return _fib(n-1) + _fib(n-2)\n",
    "\n",
    "def fib(N):\n",
    "    now = dt.now()\n",
    "    print(f\"starting at {now}\")\n",
    "    fdict = {}\n",
    "    for n in range(N):\n",
    "        # print()\n",
    "        now1 = dt.now()\n",
    "        # print(f\"{n}th Fibonacci # ==>{_fib(n)}      {str(now1 - now)}\")\n",
    "        fdict[_fib(n)] = str(now1 - now)\n",
    "    return fdict\n"
   ]
  },
  {
   "cell_type": "code",
   "execution_count": 97,
   "metadata": {},
   "outputs": [
    {
     "name": "stdout",
     "output_type": "stream",
     "text": [
      "starting at 2023-01-29 20:44:05.843013\n"
     ]
    },
    {
     "data": {
      "text/plain": [
       "{0: '0:00:00.000229',\n",
       " 1: '0:00:00.000284',\n",
       " 2: '0:00:00.000305',\n",
       " 3: '0:00:00.000355'}"
      ]
     },
     "execution_count": 97,
     "metadata": {},
     "output_type": "execute_result"
    }
   ],
   "source": [
    "fib(5)"
   ]
  },
  {
   "cell_type": "code",
   "execution_count": 145,
   "metadata": {},
   "outputs": [
    {
     "name": "stdout",
     "output_type": "stream",
     "text": [
      "starting at 2023-01-29 21:15:15.228905\n"
     ]
    },
    {
     "data": {
      "image/png": "[encoded data removed]",
      "text/plain": [
       "<Figure size 640x480 with 1 Axes>"
      ]
     },
     "metadata": {},
     "output_type": "display_data"
    }
   ],
   "source": [
    "import pandas as pd\n",
    "\n",
    "fd = fib(35)\n",
    "# print(fd)\n",
    "fnums,tt = [],[]\n",
    "for f,t in fd.items():\n",
    "    fnums.append(f)\n",
    "    tt.append(t)\n",
    "# print(fnums)\n",
    "# print(tt)\n",
    "dfib = pd.DataFrame.from_dict({'fib':fnums,'ttaken':tt})\n",
    "# print(dfib)\n",
    "\n",
    "import matplotlib.pyplot as mp\n",
    "# mp.plot(dfib)\n",
    "\n",
    "dfib['milis'] = [int(x[9:]) for x in dfib['ttaken']]\n",
    "pdf = pd.DataFrame()\n",
    "pdf['fib'] = dfib['fib']\n",
    "pdf['milis'] = dfib['milis']\n",
    "mp.xlabel('Fibonacci Num')\n",
    "mp.ylabel('Milliseconds Taken')\n",
    "\n",
    "# mp.plot(dfib['fib'],dfib['milis'])\n",
    "mp.xticks(dfib['fib'])\n",
    "mp.plot(pdf)\n",
    "mp.show()\n"
   ]
  },
  {
   "cell_type": "code",
   "execution_count": 133,
   "metadata": {},
   "outputs": [
    {
     "data": {
      "text/html": [
       "<div>\n",
       "<style scoped>\n",
       "    .dataframe tbody tr th:only-of-type {\n",
       "        vertical-align: middle;\n",
       "    }\n",
       "\n",
       "    .dataframe tbody tr th {\n",
       "        vertical-align: top;\n",
       "    }\n",
       "\n",
       "    .dataframe thead th {\n",
       "        text-align: right;\n",
       "    }\n",
       "</style>\n",
       "<table border=\"1\" class=\"dataframe\">\n",
       "  <thead>\n",
       "    <tr style=\"text-align: right;\">\n",
       "      <th></th>\n",
       "      <th>fib</th>\n",
       "      <th>ttaken</th>\n",
       "      <th>milis</th>\n",
       "    </tr>\n",
       "  </thead>\n",
       "  <tbody>\n",
       "    <tr>\n",
       "      <th>0</th>\n",
       "      <td>0</td>\n",
       "      <td>0:00:00.000666</td>\n",
       "      <td>666</td>\n",
       "    </tr>\n",
       "    <tr>\n",
       "      <th>1</th>\n",
       "      <td>1</td>\n",
       "      <td>0:00:00.000699</td>\n",
       "      <td>699</td>\n",
       "    </tr>\n",
       "    <tr>\n",
       "      <th>2</th>\n",
       "      <td>2</td>\n",
       "      <td>0:00:00.000708</td>\n",
       "      <td>708</td>\n",
       "    </tr>\n",
       "    <tr>\n",
       "      <th>3</th>\n",
       "      <td>3</td>\n",
       "      <td>0:00:00.000717</td>\n",
       "      <td>717</td>\n",
       "    </tr>\n",
       "    <tr>\n",
       "      <th>4</th>\n",
       "      <td>5</td>\n",
       "      <td>0:00:00.000728</td>\n",
       "      <td>728</td>\n",
       "    </tr>\n",
       "  </tbody>\n",
       "</table>\n",
       "</div>"
      ],
      "text/plain": [
       "   fib          ttaken  milis\n",
       "0    0  0:00:00.000666    666\n",
       "1    1  0:00:00.000699    699\n",
       "2    2  0:00:00.000708    708\n",
       "3    3  0:00:00.000717    717\n",
       "4    5  0:00:00.000728    728"
      ]
     },
     "execution_count": 133,
     "metadata": {},
     "output_type": "execute_result"
    }
   ],
   "source": [
    "import matplotlib.pyplot as mp\n",
    "# mp.plot(dfib)\n",
    "\n",
    "dfib['milis'] = [int(x[9:]) for x in dfib['ttaken']]\n",
    "mp.plot(dfib['fib'],dfib['milis'])\n",
    "\n",
    "# for x in dfib['ttaken']:\n",
    "#     # print(type(x))\n",
    "#     print(int(x[9:]))\n",
    "# oda = np.array([sqr(x) for x in range(0,9)])\n",
    "dfib.head()\n"
   ]
  },
  {
   "cell_type": "code",
   "execution_count": 134,
   "metadata": {},
   "outputs": [
    {
     "data": {
      "text/plain": [
       "[<matplotlib.lines.Line2D at 0x7f504dfbc0d0>]"
      ]
     },
     "execution_count": 134,
     "metadata": {},
     "output_type": "execute_result"
    },
    {
     "data": {
      "image/png": "[encoded data removed]",
      "text/plain": [
       "<Figure size 640x480 with 1 Axes>"
      ]
     },
     "metadata": {},
     "output_type": "display_data"
    }
   ],
   "source": []
  },
  {
   "cell_type": "code",
   "execution_count": 111,
   "metadata": {},
   "outputs": [
    {
     "name": "stdout",
     "output_type": "stream",
     "text": [
      "   fib          ttaken\n",
      "0    0  0:00:00.000357\n",
      "1    1  0:00:00.000400\n",
      "2    2  0:00:00.000418\n",
      "3    3  0:00:00.000436\n",
      "4    5  0:00:00.000452\n",
      "5    8  0:00:00.000476\n",
      "6   13  0:00:00.000498\n",
      "7   21  0:00:00.000524\n",
      "8   34  0:00:00.000605\n"
     ]
    }
   ],
   "source": [
    "dfib = pd.DataFrame.from_dict({'fib':fnums,'ttaken':tt})\n",
    "print(dfib)"
   ]
  }
 ],
 "metadata": {
  "kernelspec": {
   "display_name": "Python 3",
   "language": "python",
   "name": "python3"
  },
  "language_info": {
   "codemirror_mode": {
    "name": "ipython",
    "version": 3
   },
   "file_extension": ".py",
   "mimetype": "text/x-python",
   "name": "python",
   "nbconvert_exporter": "python",
   "pygments_lexer": "ipython3",
   "version": "3.11.1 (main, Jan 11 2023, 14:15:54) [GCC 10.2.1 20210110]"
  },
  "orig_nbformat": 4,
  "vscode": {
   "interpreter": {
    "hash": "949777d72b0d2535278d3dc13498b2535136f6dfe0678499012e853ee9abcab1"
   }
  }
 },
 "nbformat": 4,
 "nbformat_minor": 2
}
