{
 "cells": [
  {
   "cell_type": "code",
   "execution_count": 7,
   "metadata": {},
   "outputs": [
    {
     "name": "stdout",
     "output_type": "stream",
     "text": [
      "[ 0  1  4  9 16 25 36 49 64]\n"
     ]
    }
   ],
   "source": [
    "import numpy as np\n",
    "sqr = lambda x:x*x \n",
    "oda = np.array([sqr(x) for x in range(0,9)])\n",
    "print(oda)"
   ]
  },
  {
   "cell_type": "code",
   "execution_count": 15,
   "metadata": {},
   "outputs": [
    {
     "name": "stdout",
     "output_type": "stream",
     "text": [
      "float64\n"
     ]
    }
   ],
   "source": [
    "mya = np.arange(1,10,0.5)\n",
    "print(mya.dtype)"
   ]
  },
  {
   "cell_type": "code",
   "execution_count": 21,
   "metadata": {},
   "outputs": [
    {
     "name": "stdout",
     "output_type": "stream",
     "text": [
      "[[1. 0. 0.]\n",
      " [0. 1. 0.]\n",
      " [0. 0. 1.]]\n"
     ]
    },
    {
     "data": {
      "text/plain": [
       "array([[1.],\n",
       "       [0.]])"
      ]
     },
     "execution_count": 21,
     "metadata": {},
     "output_type": "execute_result"
    }
   ],
   "source": [
    "a = np.eye(3)\n",
    "print(a)\n",
    "a[0:2,0:1]\n",
    "\n"
   ]
  },
  {
   "cell_type": "code",
   "execution_count": 19,
   "metadata": {},
   "outputs": [
    {
     "name": "stdout",
     "output_type": "stream",
     "text": [
      "[[1 0 0]\n",
      " [0 2 0]\n",
      " [0 0 3]]\n"
     ]
    }
   ],
   "source": [
    "b = np.diag([1,2,3])\n",
    "print(b)"
   ]
  },
  {
   "cell_type": "code",
   "execution_count": 24,
   "metadata": {},
   "outputs": [
    {
     "name": "stdout",
     "output_type": "stream",
     "text": [
      "[[1. 0. 0.]\n",
      " [0. 1. 0.]\n",
      " [0. 0. 1.]]\n",
      "[[1 0 0]\n",
      " [0 2 0]\n",
      " [0 0 3]]\n"
     ]
    }
   ],
   "source": [
    "print(a)\n",
    "print(b)"
   ]
  },
  {
   "cell_type": "code",
   "execution_count": 25,
   "metadata": {},
   "outputs": [
    {
     "name": "stdout",
     "output_type": "stream",
     "text": [
      "[[2. 0. 0.]\n",
      " [0. 3. 0.]\n",
      " [0. 0. 4.]]\n"
     ]
    }
   ],
   "source": [
    "print(a+b)"
   ]
  },
  {
   "cell_type": "code",
   "execution_count": 26,
   "metadata": {},
   "outputs": [
    {
     "name": "stdout",
     "output_type": "stream",
     "text": [
      "[11 12 13 14 15]\n"
     ]
    }
   ],
   "source": [
    "a1 = np.array([1,2,3,4,5])\n",
    "b = 10\n",
    "print(a1+b)"
   ]
  },
  {
   "cell_type": "code",
   "execution_count": 36,
   "metadata": {},
   "outputs": [
    {
     "name": "stdout",
     "output_type": "stream",
     "text": [
      "[[1. 1. 1. 1.]\n",
      " [1. 1. 1. 1.]\n",
      " [1. 1. 1. 1.]]\n",
      "--\n",
      "[[1. 1.]\n",
      " [1. 1.]]\n",
      "[4. 4. 4.]\n",
      "[3. 3. 3. 3.]\n"
     ]
    }
   ],
   "source": [
    "a2 = np.ones((3,4))\n",
    "print(a2)\n",
    "print(\"--\")\n",
    "a3 = np.ones((2,2))\n",
    "print(a3)\n",
    "# print(a2+a3)\n",
    "print(a2.sum(axis=1))\n",
    "\n",
    "print(a2.sum(axis=0))\n"
   ]
  },
  {
   "cell_type": "code",
   "execution_count": 3,
   "metadata": {},
   "outputs": [
    {
     "name": "stdout",
     "output_type": "stream",
     "text": [
      "[  0.           2.04081633   4.08163265   6.12244898   8.16326531\n",
      "  10.20408163  12.24489796  14.28571429  16.32653061  18.36734694\n",
      "  20.40816327  22.44897959  24.48979592  26.53061224  28.57142857\n",
      "  30.6122449   32.65306122  34.69387755  36.73469388  38.7755102\n",
      "  40.81632653  42.85714286  44.89795918  46.93877551  48.97959184\n",
      "  51.02040816  53.06122449  55.10204082  57.14285714  59.18367347\n",
      "  61.2244898   63.26530612  65.30612245  67.34693878  69.3877551\n",
      "  71.42857143  73.46938776  75.51020408  77.55102041  79.59183673\n",
      "  81.63265306  83.67346939  85.71428571  87.75510204  89.79591837\n",
      "  91.83673469  93.87755102  95.91836735  97.95918367 100.        ]\n",
      "3.141592653589793\n"
     ]
    }
   ],
   "source": [
    "import numpy as np\n",
    "t = np.linspace(0,100,50)\n",
    "print(t)\n",
    "PI = np.pi\n",
    "print(PI)"
   ]
  },
  {
   "cell_type": "code",
   "execution_count": 4,
   "metadata": {},
   "outputs": [
    {
     "data": {
      "text/plain": [
       "[<matplotlib.lines.Line2D at 0x7f42ff2d73d0>]"
      ]
     },
     "execution_count": 4,
     "metadata": {},
     "output_type": "execute_result"
    },
    {
     "data": {
      "image/png": "[encoded data removed]",
      "text/plain": [
       "<Figure size 640x480 with 1 Axes>"
      ]
     },
     "metadata": {},
     "output_type": "display_data"
    }
   ],
   "source": [
    "import matplotlib.pyplot as pp\n",
    "\n",
    "pp.plot(t)"
   ]
  },
  {
   "cell_type": "code",
   "execution_count": 5,
   "metadata": {},
   "outputs": [
    {
     "name": "stdout",
     "output_type": "stream",
     "text": [
      "2023-01-31 17:48:44.494205\n"
     ]
    }
   ],
   "source": [
    "from datetime import datetime  as dt\n",
    "print(str(dt.now()))"
   ]
  },
  {
   "cell_type": "code",
   "execution_count": 8,
   "metadata": {},
   "outputs": [],
   "source": [
    "def _fib(n):\n",
    "    if n <= 0:\n",
    "        return 0\n",
    "    elif n == 1:\n",
    "        return 1\n",
    "    else: \n",
    "        return _fib(n-1) + _fib(n-2)\n",
    "\n",
    "def fib(N):\n",
    "    now = dt.now()\n",
    "    print(f\"starting at {now}\")\n",
    "    fdict = {}\n",
    "    for n in range(N):\n",
    "        # print()\n",
    "        now1 = dt.now()\n",
    "        # print(f\"{n}th Fibonacci # ==>{_fib(n)}      {str(now1 - now)}\")\n",
    "        fdict[_fib(n)] = str(now1 - now)\n",
    "    return fdict\n"
   ]
  },
  {
   "cell_type": "code",
   "execution_count": 9,
   "metadata": {},
   "outputs": [
    {
     "name": "stdout",
     "output_type": "stream",
     "text": [
      "starting at 2023-01-31 17:49:11.614716\n"
     ]
    },
    {
     "data": {
      "text/plain": [
       "{0: '0:00:00.000136',\n",
       " 1: '0:00:00.000169',\n",
       " 2: '0:00:00.000179',\n",
       " 3: '0:00:00.000196'}"
      ]
     },
     "execution_count": 9,
     "metadata": {},
     "output_type": "execute_result"
    }
   ],
   "source": [
    "fib(5)"
   ]
  },
  {
   "cell_type": "code",
   "execution_count": 10,
   "metadata": {},
   "outputs": [
    {
     "name": "stdout",
     "output_type": "stream",
     "text": [
      "starting at 2023-01-31 17:49:34.735882\n"
     ]
    },
    {
     "data": {
      "image/png": "[encoded data removed]",
      "text/plain": [
       "<Figure size 640x480 with 1 Axes>"
      ]
     },
     "metadata": {},
     "output_type": "display_data"
    }
   ],
   "source": [
    "import pandas as pd\n",
    "\n",
    "fd = fib(35)\n",
    "# print(fd)\n",
    "fnums,tt = [],[]\n",
    "for f,t in fd.items():\n",
    "    fnums.append(f)\n",
    "    tt.append(t)\n",
    "# print(fnums)\n",
    "# print(tt)\n",
    "dfib = pd.DataFrame.from_dict({'fib':fnums,'ttaken':tt})\n",
    "# print(dfib)\n",
    "\n",
    "import matplotlib.pyplot as mp\n",
    "# mp.plot(dfib)\n",
    "\n",
    "dfib['milis'] = [int(x[9:]) for x in dfib['ttaken']]\n",
    "pdf = pd.DataFrame()\n",
    "pdf['fib'] = dfib['fib']\n",
    "pdf['milis'] = dfib['milis']\n",
    "mp.xlabel('Fibonacci Num')\n",
    "mp.ylabel('Milliseconds Taken')\n",
    "\n",
    "# mp.plot(dfib['fib'],dfib['milis'])\n",
    "mp.xticks(dfib['fib'])\n",
    "mp.plot(pdf)\n",
    "mp.show()\n"
   ]
  },
  {
   "cell_type": "code",
   "execution_count": 12,
   "metadata": {},
   "outputs": [
    {
     "data": {
      "text/html": [
       "<div>\n",
       "<style scoped>\n",
       "    .dataframe tbody tr th:only-of-type {\n",
       "        vertical-align: middle;\n",
       "    }\n",
       "\n",
       "    .dataframe tbody tr th {\n",
       "        vertical-align: top;\n",
       "    }\n",
       "\n",
       "    .dataframe thead th {\n",
       "        text-align: right;\n",
       "    }\n",
       "</style>\n",
       "<table border=\"1\" class=\"dataframe\">\n",
       "  <thead>\n",
       "    <tr style=\"text-align: right;\">\n",
       "      <th></th>\n",
       "      <th>fib</th>\n",
       "      <th>ttaken</th>\n",
       "      <th>milis</th>\n",
       "    </tr>\n",
       "  </thead>\n",
       "  <tbody>\n",
       "    <tr>\n",
       "      <th>0</th>\n",
       "      <td>0</td>\n",
       "      <td>0:00:00.000129</td>\n",
       "      <td>129</td>\n",
       "    </tr>\n",
       "    <tr>\n",
       "      <th>1</th>\n",
       "      <td>1</td>\n",
       "      <td>0:00:00.000146</td>\n",
       "      <td>146</td>\n",
       "    </tr>\n",
       "    <tr>\n",
       "      <th>2</th>\n",
       "      <td>2</td>\n",
       "      <td>0:00:00.000153</td>\n",
       "      <td>153</td>\n",
       "    </tr>\n",
       "    <tr>\n",
       "      <th>3</th>\n",
       "      <td>3</td>\n",
       "      <td>0:00:00.000160</td>\n",
       "      <td>160</td>\n",
       "    </tr>\n",
       "    <tr>\n",
       "      <th>4</th>\n",
       "      <td>5</td>\n",
       "      <td>0:00:00.000210</td>\n",
       "      <td>210</td>\n",
       "    </tr>\n",
       "  </tbody>\n",
       "</table>\n",
       "</div>"
      ],
      "text/plain": [
       "   fib          ttaken  milis\n",
       "0    0  0:00:00.000129    129\n",
       "1    1  0:00:00.000146    146\n",
       "2    2  0:00:00.000153    153\n",
       "3    3  0:00:00.000160    160\n",
       "4    5  0:00:00.000210    210"
      ]
     },
     "execution_count": 12,
     "metadata": {},
     "output_type": "execute_result"
    },
    {
     "data": {
      "image/png": "[encoded data removed]",
      "text/plain": [
       "<Figure size 640x480 with 1 Axes>"
      ]
     },
     "metadata": {},
     "output_type": "display_data"
    }
   ],
   "source": [
    "import matplotlib.pyplot as mp\n",
    "# mp.plot(dfib)\n",
    "\n",
    "dfib['milis'] = [int(x[9:]) for x in dfib['ttaken']]\n",
    "mp.plot(dfib['fib'],dfib['milis'])\n",
    "\n",
    "# for x in dfib['ttaken']:\n",
    "#     # print(type(x))\n",
    "#     print(int(x[9:]))\n",
    "# oda = np.array([sqr(x) for x in range(0,9)])\n",
    "dfib.head()\n"
   ]
  },
  {
   "cell_type": "code",
   "execution_count": 134,
   "metadata": {},
   "outputs": [
    {
     "data": {
      "text/plain": [
       "[<matplotlib.lines.Line2D at 0x7f504dfbc0d0>]"
      ]
     },
     "execution_count": 134,
     "metadata": {},
     "output_type": "execute_result"
    },
    {
     "data": {
      "image/png": "[encoded data removed]",
      "text/plain": [
       "<Figure size 640x480 with 1 Axes>"
      ]
     },
     "metadata": {},
     "output_type": "display_data"
    }
   ],
   "source": []
  },
  {
   "cell_type": "code",
   "execution_count": 13,
   "metadata": {},
   "outputs": [
    {
     "name": "stdout",
     "output_type": "stream",
     "text": [
      "        fib          ttaken\n",
      "0         0  0:00:00.000129\n",
      "1         1  0:00:00.000146\n",
      "2         2  0:00:00.000153\n",
      "3         3  0:00:00.000160\n",
      "4         5  0:00:00.000210\n",
      "5         8  0:00:00.000223\n",
      "6        13  0:00:00.000230\n",
      "7        21  0:00:00.000238\n",
      "8        34  0:00:00.000253\n",
      "9        55  0:00:00.000268\n",
      "10       89  0:00:00.000290\n",
      "11      144  0:00:00.000324\n",
      "12      233  0:00:00.000371\n",
      "13      377  0:00:00.000439\n",
      "14      610  0:00:00.000551\n",
      "15      987  0:00:00.000721\n",
      "16     1597  0:00:00.000972\n",
      "17     2584  0:00:00.001472\n",
      "18     4181  0:00:00.002699\n",
      "19     6765  0:00:00.003819\n",
      "20    10946  0:00:00.005651\n",
      "21    17711  0:00:00.009292\n",
      "22    28657  0:00:00.016190\n",
      "23    46368  0:00:00.023701\n",
      "24    75025  0:00:00.040466\n",
      "25   121393  0:00:00.064809\n",
      "26   196418  0:00:00.097903\n",
      "27   317811  0:00:00.149592\n",
      "28   514229  0:00:00.235426\n",
      "29   832040  0:00:00.383093\n",
      "30  1346269  0:00:00.606848\n",
      "31  2178309  0:00:01.019959\n",
      "32  3524578  0:00:01.647223\n",
      "33  5702887  0:00:02.581321\n"
     ]
    }
   ],
   "source": [
    "dfib = pd.DataFrame.from_dict({'fib':fnums,'ttaken':tt})\n",
    "print(dfib)"
   ]
  }
 ],
 "metadata": {
  "kernelspec": {
   "display_name": "Python 3",
   "language": "python",
   "name": "python3"
  },
  "language_info": {
   "codemirror_mode": {
    "name": "ipython",
    "version": 3
   },
   "file_extension": ".py",
   "mimetype": "text/x-python",
   "name": "python",
   "nbconvert_exporter": "python",
   "pygments_lexer": "ipython3",
   "version": "3.11.1"
  },
  "orig_nbformat": 4,
  "vscode": {
   "interpreter": {
    "hash": "949777d72b0d2535278d3dc13498b2535136f6dfe0678499012e853ee9abcab1"
   }
  }
 },
 "nbformat": 4,
 "nbformat_minor": 2
}
